{
 "cells": [
  {
   "cell_type": "code",
   "execution_count": null,
   "metadata": {},
   "outputs": [],
   "source": [
    "from sklearn import datasets, neighbors\n",
    "from sklearn.svm import SVC\n",
    "import numpy as np\n",
    "import matplotlib.pyplot as plt\n",
    "import pandas as pd\n",
    "from sklearn.model_selection import train_test_split\n",
    "\n",
    "digits = datasets.load_digits()\n",
    "print(digits.keys())\n",
    "\n",
    "print(digits.data.shape, digits.images.shape )\n",
    "\n",
    "n_samples = len(digits.images)\n",
    "data_images = digits.images.reshape(n_samples,-1)\n",
    "\n",
    "x_train,x_test,y_train,y_test = train_test_split(data_images,digits.target, test_size= 0.2)\n",
    "\n",
    "clf = SVC(gamma='scale')\n",
    "clf.fit(x_train,y_train)\n",
    "\n",
    "accuracy = clf.score(x_test,y_test ) \n",
    "print(accuracy)\n"
   ]
  },
  {
   "cell_type": "code",
   "execution_count": null,
   "metadata": {},
   "outputs": [],
   "source": []
  }
 ],
 "metadata": {
  "kernelspec": {
   "display_name": "Python 3",
   "language": "python",
   "name": "python3"
  },
  "language_info": {
   "codemirror_mode": {
    "name": "ipython",
    "version": 3
   },
   "file_extension": ".py",
   "mimetype": "text/x-python",
   "name": "python",
   "nbconvert_exporter": "python",
   "pygments_lexer": "ipython3",
   "version": "3.7.1"
  }
 },
 "nbformat": 4,
 "nbformat_minor": 2
}
