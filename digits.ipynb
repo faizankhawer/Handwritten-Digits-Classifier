{
 "cells": [
  {
   "cell_type": "code",
   "execution_count": 7,
   "metadata": {},
   "outputs": [
    {
     "name": "stdout",
     "output_type": "stream",
     "text": [
      "dict_keys(['data', 'target', 'target_names', 'images', 'DESCR'])\n",
      "(1797, 64) (1797, 8, 8)\n",
      "0.9861111111111112\n"
     ]
    }
   ],
   "source": [
    "from sklearn import datasets, neighbors\n",
    "from sklearn.svm import SVC\n",
    "import numpy as np\n",
    "import matplotlib.pyplot as plt\n",
    "import pandas as pd\n",
    "from sklearn.model_selection import train_test_split\n",
    "\n",
    "digits = datasets.load_digits()\n",
    "print(digits.keys())\n",
    "\n",
    "print(digits.data.shape, digits.images.shape )\n",
    "\n",
    "n_samples = len(digits.images)\n",
    "data_images = digits.images.reshape(n_samples,-1)\n",
    "\n",
    "x_train,x_test,y_train,y_test = train_test_split(data_images,digits.target, test_size= 0.2)\n",
    "\n",
    "clf = SVC(gamma='scale')\n",
    "clf.fit(x_train,y_train)\n",
    "\n",
    "accuracy = clf.score(x_test,y_test ) \n",
    "print(accuracy)\n"
   ]
  },
  {
   "cell_type": "code",
   "execution_count": 8,
   "metadata": {},
   "outputs": [
    {
     "data": {
      "image/png": "[encoded data removed]",
      "text/plain": [
       "<Figure size 432x288 with 8 Axes>"
      ]
     },
     "metadata": {
      "needs_background": "light"
     },
     "output_type": "display_data"
    }
   ],
   "source": [
    "for i in range(8):\n",
    "    plt.subplot(2, 4,i + 1)\n",
    "    plt.axis('off')\n",
    "    imside = int(np.sqrt(digits.data[i].shape[0]))\n",
    "    im1 = np.reshape(digits.data[i],(imside,imside))\n",
    "    plt.imshow(im1, cmap=plt.cm.gray_r, interpolation='nearest')\n",
    "    plt.title('Training: {}'.format(digits.target[i]))\n",
    "plt.show()"
   ]
  },
  {
   "cell_type": "code",
   "execution_count": null,
   "metadata": {},
   "outputs": [],
   "source": []
  }
 ],
 "metadata": {
  "kernelspec": {
   "display_name": "Python 3",
   "language": "python",
   "name": "python3"
  },
  "language_info": {
   "codemirror_mode": {
    "name": "ipython",
    "version": 3
   },
   "file_extension": ".py",
   "mimetype": "text/x-python",
   "name": "python",
   "nbconvert_exporter": "python",
   "pygments_lexer": "ipython3",
   "version": "3.7.1"
  }
 },
 "nbformat": 4,
 "nbformat_minor": 2
}
